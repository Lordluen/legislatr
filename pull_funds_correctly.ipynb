{
 "cells": [
  {
   "cell_type": "markdown",
   "metadata": {},
   "source": [
    "# Step 9: Generate contribution tables for each legislator."
   ]
  },
  {
   "cell_type": "code",
   "execution_count": 1,
   "metadata": {
    "collapsed": false
   },
   "outputs": [
    {
     "name": "stdout",
     "output_type": "stream",
     "text": [
      "Populating the interactive namespace from numpy and matplotlib\n"
     ]
    }
   ],
   "source": [
    "#load everything\n",
    "%pylab inline\n",
    "import pandas as pd\n",
    "import contributions\n",
    "import votes\n",
    "import bills\n",
    "import sqlCommands\n",
    "from fuzzywuzzy import fuzz\n",
    "from fuzzywuzzy import process\n",
    "import re\n",
    "from tqdm import tqdm\n",
    "\n",
    "from operator import attrgetter\n",
    "\n",
    "dbname = 'legislatr'\n",
    "engine = sqlCommands.get_engine(dbname)"
   ]
  },
  {
   "cell_type": "code",
   "execution_count": 2,
   "metadata": {
    "collapsed": false,
    "scrolled": true
   },
   "outputs": [],
   "source": [
    "legis = pd.read_sql_table('sponsor_list_det',engine)"
   ]
  },
  {
   "cell_type": "code",
   "execution_count": 3,
   "metadata": {
    "collapsed": false,
    "scrolled": false
   },
   "outputs": [
    {
     "name": "stderr",
     "output_type": "stream",
     "text": [
      "100%|██████████| 389/389 [08:02<00:00,  1.15s/it]\n"
     ]
    }
   ],
   "source": [
    "#make a table for each legislator with contribution totals\n",
    "for leg in tqdm(range(0,len(legis.sponsor))): #should be fast\n",
    "    #first get row in legis\n",
    "    legis_ind = legis[legis.index == leg]\n",
    "    tableid = 'legis'+str(leg) #table id for each legislator\n",
    "    #get contributions to the legislator (not aggregated)\n",
    "    ind_legis_contrib = contributions.pull_contributions(legis_ind,legis,engine)\n",
    "    legis_names.append(legis_ind.qsponsor.iloc[0])\n",
    "    #aggregate contributions to get sum of total funding from each unique contributor.\n",
    "    u_reg = np.unique(ind_legis_contrib.registrantid) #unique contributor id's.\n",
    "    reg_dict = {'rid':list(), 'name':list(), 'amount':list()}\n",
    "    for rid in u_reg:\n",
    "        matches = ind_legis_contrib[ind_legis_contrib.registrantid == rid]\n",
    "        reg_dict['rid'].append(rid)\n",
    "        reg_dict['name'].append(matches.registrantname.iloc[0])\n",
    "        reg_dict['amount'].append(np.sum(matches.amount))\n",
    "    towrite = pd.DataFrame.from_dict(reg_dict)\n",
    "    #write out the contributions from each unique contributor to a table for a given legislator.\n",
    "    sqlCommands.write_to_database(dbname,tableid,towrite,engine)"
   ]
  },
  {
   "cell_type": "markdown",
   "metadata": {},
   "source": [
    "This ends the preparation of databases for the Legislatr app to use."
   ]
  }
 ],
 "metadata": {
  "kernelspec": {
   "display_name": "Python 3",
   "language": "python",
   "name": "python3"
  },
  "language_info": {
   "codemirror_mode": {
    "name": "ipython",
    "version": 3
   },
   "file_extension": ".py",
   "mimetype": "text/x-python",
   "name": "python",
   "nbconvert_exporter": "python",
   "pygments_lexer": "ipython3",
   "version": "3.5.1"
  }
 },
 "nbformat": 4,
 "nbformat_minor": 0
}
