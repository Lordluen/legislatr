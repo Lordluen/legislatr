{
 "cells": [
  {
   "cell_type": "markdown",
   "metadata": {},
   "source": [
    "# Step 3: Create array of unique legislators"
   ]
  },
  {
   "cell_type": "code",
   "execution_count": 1,
   "metadata": {
    "collapsed": true
   },
   "outputs": [],
   "source": [
    "import re\n",
    "import os\n",
    "import numpy as np\n",
    "import pandas as pd\n",
    "import ujson as json\n",
    "from tqdm import tqdm\n",
    "import sqlCommands\n",
    "\n",
    "from dateutil.parser import parse as DateParser\n",
    "\n",
    "\n",
    "\n",
    "def findOccurences(s, ch):\n",
    "    res = list()\n",
    "    for i in re.finditer(ch,s):\n",
    "        res.append(i.start())\n",
    "    return res"
   ]
  },
  {
   "cell_type": "code",
   "execution_count": 2,
   "metadata": {
    "collapsed": false
   },
   "outputs": [
    {
     "name": "stdout",
     "output_type": "stream",
     "text": [
      "<class 'list'>\n",
      "<class 'str'>\n",
      "['{Sen,\"Baucus, Max\",MT}', '{Sen,\"Brown, Sherrod\",OH}', '{Sen,\"Kirk, Mark Steven\",IL}', '{Sen,\"Wyden, Ron\",OR}', '{Sen,\"Hirono, Mazie K.\",HI}', '{Sen,\"Udall, Mark\",CO}', '{Sen,\"Toomey, Pat\",PA}', '{Sen,\"Lee, Mike\",UT}', '{Sen,\"Schumer, Charles E.\",NY}', '{Sen,\"Burr, Richard\",NC}']\n",
      "['{}', '{{Sen,\"Casey, Robert P., Jr.\",PA},{Sen,\"Franken, Al\",MN},{Sen,\"Klobuchar, Amy\",MN},{Sen,\"Portman, Rob\",OH},{Sen,\"Toomey, Pat\",PA}}', '{{Sen,\"Hatch, Orrin G.\",UT},{Sen,\"Johnson, Tim\",SD},{Sen,\"Murkowski, Lisa\",AK}}', '{}', '{{Sen,\"Gillibrand, Kirsten E.\",NY},{Sen,\"Markey, Edward J.\",MA},{Sen,\"Reed, Jack\",RI},{Sen,\"Sanders, Bernard\",VT},{Sen,\"Schumer, Charles E.\",NY},{Sen,\"Whitehouse, Sheldon\",RI}}', '{{Sen,\"Bennet, Michael F.\",CO},{Sen,\"Heller, Dean\",NV}}', '{{Sen,\"Manchin, Joe, III\",WV}}', '{}', '{{Sen,\"Baldwin, Tammy\",WI},{Sen,\"Blumenthal, Richard\",CT},{Sen,\"Blunt, Roy\",MO},{Sen,\"Cochran, Thad\",MS},{Sen,\"Collins, Susan M.\",ME},{Sen,\"Durbin, Richard\",IL},{Sen,\"Franken, Al\",MN},{Sen,\"Gillibrand, Kirsten E.\",NY},{Sen,\"Grassley, Chuck\",IA},{Sen,\"Hagan, Kay R.\",NC},{Sen,\"Harkin, Tom\",IA},{Sen,\"Heinrich, Martin\",NM},{Sen,\"King, Angus S. Jr.\",ME},{Sen,\"Kirk, Mark Steven\",IL},{Sen,\"Klobuchar, Amy\",MN},{Sen,\"Landrieu, Mary L.\",LA},{Sen,\"Leahy, Patrick J.\",VT},{Sen,\"McCaskill, Claire\",MO},{Sen,\"Moran, Jerry\",KS},{Sen,\"Murphy, Christopher S.\",CT},{Sen,\"Roberts, Pat\",KS},{Sen,\"Rockefeller, John D., IV\",WV},{Sen,\"Sanders, Bernard\",VT},{Sen,\"Schatz, Brian\",HI},{Sen,\"Shaheen, Jeanne\",NH},{Sen,\"Stabenow, Debbie\",MI},{Sen,\"Warren, Elizabeth\",MA},{Sen,\"Wicker, Roger F.\",MS}}', '{}']\n"
     ]
    }
   ],
   "source": [
    "#set up engine\n",
    "dbname = 'legislatr'\n",
    "engine = sqlCommands.get_engine(dbname)\n",
    "#query = \"SELECT * FROM topics;\"\n",
    "bills_df = pd.read_sql_table('allbills4',engine)\n",
    "\n",
    "sponsor = list(bills_df['sponsor'])\n",
    "cosponsors = list(bills_df['cosponsors'])+sponsor\n",
    "print(type(sponsor))\n",
    "print(type(sponsor[0]))\n",
    "print(sponsor[0:10])\n",
    "print(cosponsors[0:10])"
   ]
  },
  {
   "cell_type": "code",
   "execution_count": 3,
   "metadata": {
    "collapsed": true
   },
   "outputs": [],
   "source": [
    "#separate cosponsors and remove entries where there are no cosponsors\n",
    "new_cosponsors = list()\n",
    "for s in cosponsors:\n",
    "    #first check for empty\n",
    "    if s == \"{}\":\n",
    "        continue\n",
    "    s= s.replace(\"{\",\"\")\n",
    "    ind = findOccurences(s,\"},\")\n",
    "    #loop over each new sponsor\n",
    "    sind = 0\n",
    "    ind.append(-1)\n",
    "    for i in ind:\n",
    "        sub_spons = s[sind:i]\n",
    "        sind = i+2\n",
    "        sub_spons = sub_spons.replace(\"}\",\"\")\n",
    "        new_cosponsors.append(sub_spons)"
   ]
  },
  {
   "cell_type": "code",
   "execution_count": 5,
   "metadata": {
    "collapsed": false
   },
   "outputs": [
    {
     "name": "stdout",
     "output_type": "stream",
     "text": [
      "869\n",
      "['Sen,\"Udall, Tom\",NM' 'Sen,\"Vitter, David\",LA'\n",
      " 'Sen,\"Voinovich, George V.\",OH' 'Sen,\"Walsh, John E.\",MT'\n",
      " 'Sen,\"Warner, Mark R.\",VA' 'Sen,\"Warren, Elizabeth\",MA'\n",
      " 'Sen,\"Webb, Jim\",VA' 'Sen,\"Whitehouse, Sheldon\",RI'\n",
      " 'Sen,\"Wicker, Roger F.\",MS']\n"
     ]
    }
   ],
   "source": [
    "u_new_cosponsors = np.unique(new_cosponsors)\n",
    "print(len(u_new_cosponsors)) #should be 865 based on playing before\n",
    "print(u_new_cosponsors[-10:-1]) #too may print lines"
   ]
  },
  {
   "cell_type": "code",
   "execution_count": 8,
   "metadata": {
    "collapsed": false
   },
   "outputs": [
    {
     "name": "stdout",
     "output_type": "stream",
     "text": [
      "Sen,\"Warner, Mark R.\",VA\n"
     ]
    }
   ],
   "source": [
    "#use this box to check things I am suspicious about.\n",
    "for s in u_new_cosponsors:\n",
    "    ind = findOccurences(s,\"Warner\")\n",
    "    if len(ind) == 0:\n",
    "        continue\n",
    "    print(s)"
   ]
  },
  {
   "cell_type": "code",
   "execution_count": 19,
   "metadata": {
    "collapsed": false
   },
   "outputs": [],
   "source": [
    "#save unique sponsor list to database\n",
    "sponsor_list_df = pd.DataFrame()\n",
    "sponsor_list_df['sponsor'] = u_new_cosponsors\n",
    "sqlCommands.write_to_database(dbname,'sponsor_list',sponsor_list_df,engine)"
   ]
  },
  {
   "cell_type": "markdown",
   "metadata": {
    "collapsed": true
   },
   "source": [
    "Step 4 can be found in connect_committees.ipynb"
   ]
  }
 ],
 "metadata": {
  "kernelspec": {
   "display_name": "Python 3",
   "language": "python",
   "name": "python3"
  },
  "language_info": {
   "codemirror_mode": {
    "name": "ipython",
    "version": 3
   },
   "file_extension": ".py",
   "mimetype": "text/x-python",
   "name": "python",
   "nbconvert_exporter": "python",
   "pygments_lexer": "ipython3",
   "version": "3.5.1"
  }
 },
 "nbformat": 4,
 "nbformat_minor": 0
}
